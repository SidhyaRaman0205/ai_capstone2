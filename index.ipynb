{
 "cells": [
  {
   "cell_type": "markdown",
   "id": "0cfa9945",
   "metadata": {},
   "source": [
    "# Prediction Telecommunication Customer Churning\n"
   ]
  },
  {
   "cell_type": "markdown",
   "id": "6a9c5f81",
   "metadata": {},
   "source": [
    "## Import Libraries\n"
   ]
  },
  {
   "cell_type": "code",
   "execution_count": null,
   "id": "bc4ab402",
   "metadata": {},
   "outputs": [],
   "source": []
  }
 ],
 "metadata": {
  "kernelspec": {
   "display_name": "Python (learn-env)",
   "language": "python",
   "name": "learn-env"
  }
 },
 "nbformat": 4,
 "nbformat_minor": 5
}
